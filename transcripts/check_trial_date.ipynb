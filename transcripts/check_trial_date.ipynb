{
 "cells": [
  {
   "cell_type": "code",
   "execution_count": 16,
   "id": "bc23a5e5-df1d-42f7-a8f9-5a113d295e62",
   "metadata": {},
   "outputs": [
    {
     "name": "stdout",
     "output_type": "stream",
     "text": [
      "ICTR-01-64-2.txt : 28 JULY 2003\n",
      "ICTR-01-64-3.txt : 4 AUGUST 2003\n",
      "ICTR-01-64-4.txt : 5 AUGUST 2003\n",
      "ICTR-01-64-5.txt : 6 AUGUST 2003\n",
      "ICTR-01-64-6.txt : 7 AUGUST 2003\n",
      "ICTR-01-64-10.txt : 21 AUGUST 2003\n",
      "ICTR-01-64-11.txt : 22 AUGUST 2003\n",
      "ICTR-01-64-12.txt : No date found\n",
      "ICTR-01-64-13.txt : 26 AUGUST 2003\n",
      "ICTR-01-64-14.txt : 27 AUGUST 2003\n",
      "ICTR-01-64-15.txt : 28 AUGUST 2003\n",
      "ICTR-01-64-16.txt : 6 OCTOBER 2003\n",
      "ICTR-01-64-17.txt : 7 OCTOBER 2003\n",
      "ICTR-01-64-18.txt : 8 OCTOBER 2003\n",
      "ICTR-01-64-19.txt : 13 OCTOBER 2003\n",
      "ICTR-01-64-20.txt : 15 OCTOBER 2003\n",
      "ICTR-01-64-21.txt : 16 OCTOBER 2003\n",
      "ICTR-01-64-22.txt : No date found\n",
      "ICTR-01-64-23.txt : 21 OCTOBER 2003\n",
      "ICTR-01-64-24.txt : 17 NOVEMBER 2003\n",
      "ICTR-01-64-25.txt : 18 NOVEMBER 2003\n",
      "ICTR-01-64-26.txt : 19 NOVEMBER 2003\n",
      "ICTR-01-64-27.txt : 20 NOVEMBER 2003\n",
      "ICTR-01-64-28.txt : 21 NOVEMBER 2003\n",
      "ICTR-01-64-29.txt : 24 NOVEMBER 2003\n",
      "ICTR-01-64-30.txt : 1 MARCH 2003\n",
      "ICTR-01-64-31.txt : 17 JUNE 2004\n",
      "ICTR-01-64-32.txt : 8 MARCH 2005\n",
      "ICTR-01-64-33.txt : 8 FEBRUARY 2006\n",
      "ICTR-01-64-34.txt : 9 FEBRUARY 2006\n",
      "ICTR-01-64-35.txt : No date found\n"
     ]
    }
   ],
   "source": [
    "import os\n",
    "import re\n",
    "\n",
    "folder_path = r'C:\\Users\\Luca Giovannini\\Documents\\GitHub\\genocor\\transcripts\\RWA-Gacumbitsi'\n",
    "\n",
    "# Define a custom sorting function to sort based on numeric values\n",
    "def custom_sort(file_name):\n",
    "    if file_name.endswith(\".txt\"):\n",
    "        # Extract the numeric part from the file name (assumes the numeric part is at the end)\n",
    "        numeric_part = int(file_name.split('-')[-1].split('.')[0])\n",
    "        return numeric_part\n",
    "    else:\n",
    "        return 0  # Return 0 for non-.txt files, which will keep them at the beginning\n",
    "\n",
    "# List the files in the folder and sort them using the custom sorting function\n",
    "file_list = os.listdir(folder_path)\n",
    "file_list.sort(key=custom_sort)\n",
    "\n",
    "# Define the regex pattern to match dates in the \"30 JANUARY 2004\" format\n",
    "date_pattern = r'\\d{1,2} [A-Z]+ \\d{4}'\n",
    "\n",
    "for filename in file_list:\n",
    "    if filename.endswith(\".txt\"):\n",
    "        file_path = os.path.join(folder_path, filename)\n",
    "        try:\n",
    "            with open(file_path, 'r') as file:\n",
    "                content = file.read()\n",
    "                match = re.search(date_pattern, content)\n",
    "                if match:\n",
    "                    print(f\"{filename} : {match.group()}\")\n",
    "                else:\n",
    "                    print(f\"{filename} : No date found\")\n",
    "        except Exception as e:\n",
    "            print(f\"{filename} : Error - {e}\")\n"
   ]
  }
 ],
 "metadata": {
  "kernelspec": {
   "display_name": "Python 3 (ipykernel)",
   "language": "python",
   "name": "python3"
  },
  "language_info": {
   "codemirror_mode": {
    "name": "ipython",
    "version": 3
   },
   "file_extension": ".py",
   "mimetype": "text/x-python",
   "name": "python",
   "nbconvert_exporter": "python",
   "pygments_lexer": "ipython3",
   "version": "3.12.0"
  }
 },
 "nbformat": 4,
 "nbformat_minor": 5
}
