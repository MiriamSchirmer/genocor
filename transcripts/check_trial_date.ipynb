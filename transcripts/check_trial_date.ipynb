{
 "cells": [
  {
   "cell_type": "code",
   "execution_count": 14,
   "id": "bc23a5e5-df1d-42f7-a8f9-5a113d295e62",
   "metadata": {},
   "outputs": [
    {
     "name": "stdout",
     "output_type": "stream",
     "text": [
      "ICTR-95-01B-1.txt : 24 NOVEMBER 1999\n",
      "ICTR-95-01B-2.txt : 2 MARCH 2000\n",
      "ICTR-95-01B-3.txt : 30 JANUARY 2004\n",
      "ICTR-95-01B-4.txt : 29 MARCH 2004\n",
      "ICTR-95-01B-5.txt : 30 MARCH 2004\n",
      "ICTR-95-01B-6.txt : 31 MARCH 2004\n",
      "ICTR-95-01B-7.txt : 1 APRIL 2004\n",
      "ICTR-95-01B-8.txt : 5 APRIL 2004\n",
      "ICTR-95-01B-9.txt : 6 APRIL 2004\n",
      "ICTR-95-01B-10.txt : 7 APRIL 2004\n",
      "ICTR-95-01B-11.txt : 8 APRIL 2004\n",
      "ICTR-95-01B-12.txt : 13 APRIL 2004\n",
      "ICTR-95-01B-13.txt : 14 APRIL 2004\n",
      "ICTR-95-01B-14.txt : 15 APRIL 2004\n",
      "ICTR-95-01B-15.txt : 16 APRIL 2004\n",
      "ICTR-95-01B-16.txt : 19 APRIL 2004\n",
      "ICTR-95-01B-17.txt : 20 APRIL 2004\n",
      "ICTR-95-01B-18.txt : 21 APRIL 2004\n",
      "ICTR-95-01B-19.txt : No date found\n",
      "ICTR-95-01B-20.txt : 27 APRIL 2004\n",
      "ICTR-95-01B-21.txt : 28 APRIL 2004\n",
      "ICTR-95-01B-22.txt : 29 APRIL 2004\n",
      "ICTR-95-01B-23.txt : 30 APRIL 2004\n",
      "ICTR-95-01B-24.txt : 16 AUGUST 2004\n",
      "ICTR-95-01B-25.txt : 17 AUGUST 2004\n",
      "ICTR-95-01B-26.txt : 18 AUGUST 2004\n",
      "ICTR-95-01B-27.txt : 23 AUGUST 2004\n",
      "ICTR-95-01B-28.txt : 24 AUGUST 2004\n",
      "ICTR-95-01B-29.txt : 25 AUGUST 2004\n",
      "ICTR-95-01B-30.txt : 26 AUGUST 2004\n",
      "ICTR-95-01B-31.txt : 30 AUGUST 2004\n",
      "ICTR-95-01B-32.txt : 31 AUGUST 2004\n",
      "ICTR-95-01B-33.txt : 1 SEPTEMBER 2004\n",
      "ICTR-95-01B-34.txt : 2 SEPTEMBER 2004\n",
      "ICTR-95-01B-35.txt : 6 SEPTEMBER 2004\n",
      "ICTR-95-01B-36.txt : 7 SEPTEMBER 2004\n",
      "ICTR-95-01B-37.txt : 8 SEPTEMBER 2004\n",
      "ICTR-95-01B-38.txt : Error - 'charmap' codec can't decode byte 0x9d in position 1584: character maps to <undefined>\n",
      "ICTR-95-01B-39.txt : 19 JANUARY 2005\n",
      "ICTR-95-01B-40.txt : 20 JANUARY 2005\n",
      "ICTR-95-01B-41.txt : 28 APRIL 2005\n",
      "ICTR-95-01B-42.txt : 15 JANUARY 2007\n",
      "ICTR-95-01B-43.txt : 21 MAY 2007\n"
     ]
    }
   ],
   "source": [
    "import os\n",
    "import re\n",
    "\n",
    "folder_path = r'C:\\Users\\Luca Giovannini\\Documents\\GitHub\\genocor\\transcripts\\RWA-Muhimana'\n",
    "\n",
    "# Define a custom sorting function to sort based on numeric values\n",
    "def custom_sort(file_name):\n",
    "    if file_name.endswith(\".txt\"):\n",
    "        # Extract the numeric part from the file name (assumes the numeric part is at the end)\n",
    "        numeric_part = int(file_name.split('-')[-1].split('.')[0])\n",
    "        return numeric_part\n",
    "    else:\n",
    "        return 0  # Return 0 for non-.txt files, which will keep them at the beginning\n",
    "\n",
    "# List the files in the folder and sort them using the custom sorting function\n",
    "file_list = os.listdir(folder_path)\n",
    "file_list.sort(key=custom_sort)\n",
    "\n",
    "# Define the regex pattern to match dates in the \"30 JANUARY 2004\" format\n",
    "date_pattern = r'\\d{1,2} [A-Z]+ \\d{4}'\n",
    "\n",
    "for filename in file_list:\n",
    "    if filename.endswith(\".txt\"):\n",
    "        file_path = os.path.join(folder_path, filename)\n",
    "        try:\n",
    "            with open(file_path, 'r') as file:\n",
    "                content = file.read()\n",
    "                match = re.search(date_pattern, content)\n",
    "                if match:\n",
    "                    print(f\"{filename} : {match.group()}\")\n",
    "                else:\n",
    "                    print(f\"{filename} : No date found\")\n",
    "        except Exception as e:\n",
    "            print(f\"{filename} : Error - {e}\")\n"
   ]
  }
 ],
 "metadata": {
  "kernelspec": {
   "display_name": "Python 3 (ipykernel)",
   "language": "python",
   "name": "python3"
  },
  "language_info": {
   "codemirror_mode": {
    "name": "ipython",
    "version": 3
   },
   "file_extension": ".py",
   "mimetype": "text/x-python",
   "name": "python",
   "nbconvert_exporter": "python",
   "pygments_lexer": "ipython3",
   "version": "3.12.0"
  }
 },
 "nbformat": 4,
 "nbformat_minor": 5
}
