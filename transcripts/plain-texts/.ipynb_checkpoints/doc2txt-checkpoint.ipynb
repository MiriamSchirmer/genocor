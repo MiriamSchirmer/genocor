{
 "cells": [
  {
   "cell_type": "code",
   "execution_count": 1,
   "id": "fe1af6e4-7a82-4d90-9e0c-e227b088f54e",
   "metadata": {},
   "outputs": [
    {
     "name": "stdout",
     "output_type": "stream",
     "text": [
      "Requirement already satisfied: pywin32 in c:\\users\\luca giovannini\\appdata\\local\\programs\\python\\python312\\lib\\site-packages (306)Note: you may need to restart the kernel to use updated packages.\n",
      "\n"
     ]
    },
    {
     "name": "stderr",
     "output_type": "stream",
     "text": [
      "\n",
      "[notice] A new release of pip is available: 23.2.1 -> 23.3.1\n",
      "[notice] To update, run: C:\\Users\\Luca Giovannini\\AppData\\Local\\Programs\\Python\\Python312\\python.exe -m pip install --upgrade pip\n"
     ]
    }
   ],
   "source": [
    "pip install pywin32"
   ]
  },
  {
   "cell_type": "code",
   "execution_count": 2,
   "id": "15a8ccce-70e6-4bdd-ab53-d213ae2cbe90",
   "metadata": {},
   "outputs": [],
   "source": [
    "import win32com"
   ]
  },
  {
   "cell_type": "code",
   "execution_count": 3,
   "id": "608bda5c-e0a7-4a42-a53e-fa4d6ae896cb",
   "metadata": {},
   "outputs": [
    {
     "name": "stdout",
     "output_type": "stream",
     "text": [
      "Requirement already satisfied: tqdm in c:\\users\\luca giovannini\\appdata\\local\\programs\\python\\python312\\lib\\site-packages (4.66.1)Note: you may need to restart the kernel to use updated packages.\n",
      "\n",
      "Requirement already satisfied: colorama in c:\\users\\luca giovannini\\appdata\\local\\programs\\python\\python312\\lib\\site-packages (from tqdm) (0.4.6)\n"
     ]
    },
    {
     "name": "stderr",
     "output_type": "stream",
     "text": [
      "\n",
      "[notice] A new release of pip is available: 23.2.1 -> 23.3.1\n",
      "[notice] To update, run: C:\\Users\\Luca Giovannini\\AppData\\Local\\Programs\\Python\\Python312\\python.exe -m pip install --upgrade pip\n"
     ]
    }
   ],
   "source": [
    "pip install tqdm"
   ]
  },
  {
   "cell_type": "code",
   "execution_count": 4,
   "id": "5358a9b3-386b-4017-9fe8-5dfaa909229d",
   "metadata": {},
   "outputs": [],
   "source": [
    "import os\n",
    "from win32com import client as win32\n",
    "from tqdm import tqdm"
   ]
  },
  {
   "cell_type": "code",
   "execution_count": 5,
   "id": "3baba366-ea06-462b-8b2c-939ea4ed53da",
   "metadata": {},
   "outputs": [],
   "source": [
    "case = \"RWA-Karemera\" # the name of the case we're working on"
   ]
  },
  {
   "cell_type": "code",
   "execution_count": null,
   "id": "31e28a30-85e9-4df9-b710-bd52601ee57d",
   "metadata": {},
   "outputs": [
    {
     "name": "stderr",
     "output_type": "stream",
     "text": [
      "Converting documents:   6%|███▊                                                         | 1/16 [00:58<14:43, 58.88s/it]"
     ]
    }
   ],
   "source": [
    "import os\n",
    "import win32com.client as win32\n",
    "from tqdm import tqdm\n",
    "\n",
    "# Directory where your .doc files are located\n",
    "doc_files_dir = \"C:\\\\Users\\\\Luca Giovannini\\\\Documents\\\\GitHub\\\\genocor\\\\transcripts\\\\RWA-Karemera\\\\partial\"\n",
    "\n",
    "# Create a list of .doc files in the directory\n",
    "doc_files = [os.path.join(doc_files_dir, filename) for filename in os.listdir(doc_files_dir) if filename.endswith(\".doc\")]\n",
    "\n",
    "# Output directory for the converted .txt files\n",
    "txt_output_dir = \"C:\\\\Users\\\\Luca Giovannini\\\\Documents\\\\GitHub\\\\genocor\\\\transcripts\\\\plain-texts\"\n",
    "\n",
    "# Create a Word application instance\n",
    "word = win32.gencache.EnsureDispatch(\"Word.Application\")\n",
    "\n",
    "# Use tqdm to create a progress bar\n",
    "with word:\n",
    "    for doc_file in tqdm(doc_files, desc=\"Converting documents\"):\n",
    "        try:\n",
    "            # Open the .doc file\n",
    "            doc = word.Documents.Open(doc_file)\n",
    "\n",
    "            # Get the file name (without extension)\n",
    "            file_name = os.path.splitext(os.path.basename(doc_file))[0]\n",
    "\n",
    "            # Define the output .txt file path\n",
    "            txt_file_path = os.path.join(txt_output_dir, file_name + \".txt\")\n",
    "\n",
    "            # Save the .doc file as .txt\n",
    "            doc.SaveAs2(txt_file_path, FileFormat=7)  # 7 represents . .txt format\n",
    "\n",
    "            # Close the .doc file\n",
    "            doc.Close()\n",
    "        except Exception as e:\n",
    "            # Print the filename of the file causing the error\n",
    "            print(f\"Error while processing {doc_file}: {str(e)}\")\n",
    "            continue  # Continue to the next file\n",
    "\n",
    "# Close the Word application\n",
    "word.Quit()\n",
    "\n",
    "print(\"Conversion from .doc to .txt is complete.\")"
   ]
  },
  {
   "cell_type": "code",
   "execution_count": null,
   "id": "0d1ed25d-2016-4a67-8bba-b79d628d7058",
   "metadata": {},
   "outputs": [],
   "source": [
    "# now merge the files"
   ]
  },
  {
   "cell_type": "code",
   "execution_count": 6,
   "id": "13f84679-0212-46ac-b48f-b6c75281fe56",
   "metadata": {},
   "outputs": [
    {
     "name": "stdout",
     "output_type": "stream",
     "text": [
      "Merged content saved to C:\\Users\\Luca Giovannini\\Documents\\GitHub\\genocor\\transcripts\\plain-texts-full.txt\n"
     ]
    }
   ],
   "source": [
    "# Directory containing the text files\n",
    "directory = 'C:\\\\Users\\\\Luca Giovannini\\\\Documents\\\\GitHub\\\\genocor\\\\transcripts\\\\plain-texts'\n",
    "\n",
    "# Get a list of text files in the directory\n",
    "file_list = [f for f in os.listdir(directory) if f.endswith('.txt')]\n",
    "\n",
    "# Sort the list of files alphabetically\n",
    "file_list.sort()\n",
    "\n",
    "# Initialize an empty string to store the merged content\n",
    "merged_content = ''\n",
    "\n",
    "# Iterate through the sorted list of files and merge their contents\n",
    "for file_name in file_list:\n",
    "    with open(os.path.join(directory, file_name), 'r') as file:\n",
    "        file_content = file.read()\n",
    "        merged_content += file_content\n",
    "        merged_content += '\\n'\n",
    "\n",
    "# Write the merged content to a new file\n",
    "merged_file_name = f'{case}-full.txt'\n",
    "with open(merged_file_name, 'w') as merged_file:\n",
    "    merged_file.write(merged_content)\n",
    "\n",
    "print(f'Merged content saved to {merged_file_name}')\n"
   ]
  }
 ],
 "metadata": {
  "kernelspec": {
   "display_name": "Python 3 (ipykernel)",
   "language": "python",
   "name": "python3"
  },
  "language_info": {
   "codemirror_mode": {
    "name": "ipython",
    "version": 3
   },
   "file_extension": ".py",
   "mimetype": "text/x-python",
   "name": "python",
   "nbconvert_exporter": "python",
   "pygments_lexer": "ipython3",
   "version": "3.12.0"
  }
 },
 "nbformat": 4,
 "nbformat_minor": 5
}
